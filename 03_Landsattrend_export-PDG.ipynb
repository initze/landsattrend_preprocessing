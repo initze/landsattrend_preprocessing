{
 "cells": [
  {
   "cell_type": "markdown",
   "id": "7da3cf8a",
   "metadata": {},
   "source": [
    "# Landsattrend data preparation script for clowder extractor"
   ]
  },
  {
   "cell_type": "code",
   "execution_count": 1,
   "id": "c28f282b-239b-4797-9013-af4f95e7f928",
   "metadata": {},
   "outputs": [],
   "source": [
    "import ee#, eemont\n",
    "#ee.Authenticate()\n",
    "ee.Initialize()\n",
    "\n",
    "import geemap\n",
    "from importlib import reload  \n",
    "import geopandas as gpd\n",
    "import pandas as pd\n",
    "\n",
    "from GEE_HotSpot.modules import high_level_functions\n",
    "from GEE_HotSpot.modules import utils_Landsat_SR as utils_LS\n",
    "from GEE_HotSpot.modules import ms_indices as indices\n",
    "from GEE_HotSpot.modules import configs, utils_string\n",
    "\n",
    "from utils.utils_processing import *\n",
    "\n",
    "import numpy as np\n",
    "from pathlib import Path\n",
    "import os, shutil\n",
    "import tqdm\n",
    "import time"
   ]
  },
  {
   "cell_type": "code",
   "execution_count": 2,
   "id": "0084af29-2d33-40f2-a456-360e2798b136",
   "metadata": {},
   "outputs": [],
   "source": [
    "def run_preprocess(config_trend, crs='EPSG:32656', prefix='trendimage_Z056-Kolyma', tasking=True, mask_non_water=True):\n",
    "    trend = high_level_functions.runTCTrend(config_trend)\n",
    "    data = trend['data']\n",
    "\n",
    "    # setup data\n",
    "    dem = create_dem_data()\n",
    "    data_export = data.addBands(dem).toFloat().select(data_cols)\n",
    "    if mask_non_water:\n",
    "        # new version set to 90 m\n",
    "        water_mask = get_water_mask(dilation_size=90)\n",
    "        data_export = data_export.updateMask(water_mask)\n",
    "    if tasking:\n",
    "        # Export\n",
    "        task = ee.batch.Export.image.toDrive(\n",
    "            image=data_export,\n",
    "            description=prefix,\n",
    "            folder=OUTFOLDER,\n",
    "            fileNamePrefix=prefix,\n",
    "            crs=crs,\n",
    "            region=geom,\n",
    "            scale=30,\n",
    "            maxPixels=1e12)\n",
    "        task.start()\n",
    "        return None\n",
    "    else:\n",
    "        return data_export"
   ]
  },
  {
   "cell_type": "code",
   "execution_count": 3,
   "id": "85d2b786",
   "metadata": {},
   "outputs": [],
   "source": [
    "data_cols = ['TCB_slope',\n",
    "             'TCB_offset',\n",
    "             'TCG_slope', \n",
    "             'TCG_offset', \n",
    "             'TCW_slope',\n",
    "             'TCW_offset',\n",
    "             'NDVI_slope',\n",
    "             'NDVI_offset',\n",
    "             'NDMI_slope',\n",
    "             'NDMI_offset',\n",
    "             'NDWI_slope',\n",
    "             'NDWI_offset', \n",
    "             'elevation', \n",
    "             'slope'] "
   ]
  },
  {
   "cell_type": "markdown",
   "id": "13d96906",
   "metadata": {},
   "source": [
    "### Run  Batch Process"
   ]
  },
  {
   "cell_type": "markdown",
   "id": "1cd9ecc6-11bc-4717-a5da-6fa5a7a301c7",
   "metadata": {},
   "source": [
    "#### Project Properties - Change Settings Here "
   ]
  },
  {
   "cell_type": "code",
   "execution_count": 4,
   "id": "aa4e5727-64c0-491f-bbe6-adc2c2f333ed",
   "metadata": {
    "tags": []
   },
   "outputs": [],
   "source": [
    "# PROPERTIES\n",
    "# SET METADATA AND EXPORT PARAMETERS\n",
    "MAXCLOUD = 70\n",
    "STARTYEAR = 2000\n",
    "ENDYEAR = 2020\n",
    "STARTMONTH = 7\n",
    "ENDMONTH = 8\n",
    "SCALE = 30\n",
    "OUTFOLDER = 'PDG_Trend'\n",
    "\n",
    "# SET SPATIAL PARAMETERS\n",
    "UTM_ZONE = 11\n",
    "LATITUDE_MIN = 60\n",
    "LATITUDE_MAX = 80\n",
    "\n",
    "# SPATIAL TILING SETTINGS (can be kept as is!)\n",
    "Y_SIZE = 1\n",
    "X_SIZE = 3\n",
    "X_OVERLAP = 0.1\n",
    "X_SIZE_BUFFERED = X_SIZE + (2*X_OVERLAP)\n"
   ]
  },
  {
   "cell_type": "code",
   "execution_count": 5,
   "id": "92efdc5b",
   "metadata": {},
   "outputs": [],
   "source": [
    "# image metadata Filters\n",
    "config_trend = {\n",
    "  'date_filter_yr' : ee.Filter.calendarRange(STARTYEAR, ENDYEAR, 'year'),\n",
    "  'date_filter_mth' : ee.Filter.calendarRange(STARTMONTH, ENDMONTH, 'month'),\n",
    "  'meta_filter_cld' : ee.Filter.lt('CLOUD_COVER', MAXCLOUD),\n",
    "  'select_bands_visible' : [\"B1\", \"B2\",\"B3\",\"B4\"],\n",
    "  'select_indices' : [\"TCB\", \"TCG\", \"TCW\", \"NDVI\", \"NDMI\", \"NDWI\"],\n",
    "  'select_TCtrend_bands' : [\"TCB_slope\", \"TCG_slope\", \"TCW_slope\"],\n",
    "  'geom' : None\n",
    "}\n",
    "#------ RUN FULL PROCESS FOR ALL REGIONS IN LOOP ------------------------------\n",
    "#Map.addLayer(imageCollection, {}, 'TCVIS')"
   ]
  },
  {
   "cell_type": "code",
   "execution_count": 13,
   "id": "9d757431-f328-4879-a7c6-a7d799ac1fcd",
   "metadata": {},
   "outputs": [
    {
     "name": "stdout",
     "output_type": "stream",
     "text": [
      "[-120, -117]\n",
      "[60, 61, 62, 63, 64, 65, 66, 67, 68, 69, 70, 71, 72, 73, 74, 75, 76, 77, 78, 79]\n"
     ]
    }
   ],
   "source": [
    "#longitudes = range(90, 96, X_SIZE)\n",
    "longitudes = get_lon_from_utmzone(UTM_ZONE, X_SIZE)\n",
    "print(list(longitudes))\n",
    "\n",
    "latitudes = range(LATITUDE_MIN, LATITUDE_MAX, Y_SIZE)\n",
    "print(list(latitudes))"
   ]
  },
  {
   "cell_type": "markdown",
   "id": "c0efd299-c45e-4c6a-8208-d36256e8feb6",
   "metadata": {},
   "source": [
    "#### Run Processing "
   ]
  },
  {
   "cell_type": "code",
   "execution_count": 14,
   "id": "18deedc0-026b-4f7b-93e6-87e392ba440d",
   "metadata": {},
   "outputs": [],
   "source": [
    "RUN_PROCESS = 1"
   ]
  },
  {
   "cell_type": "code",
   "execution_count": 15,
   "id": "d0b22a97",
   "metadata": {},
   "outputs": [
    {
     "name": "stdout",
     "output_type": "stream",
     "text": [
      "trendimage_2000-2020_32611_-120_60\n",
      "['B1', 'B2', 'B3', 'B4']\n",
      "['TCB', 'TCG', 'TCW', 'NDVI', 'NDMI', 'NDWI']\n",
      "trendimage_2000-2020_32611_-120_61\n",
      "['B1', 'B2', 'B3', 'B4']\n",
      "['TCB', 'TCG', 'TCW', 'NDVI', 'NDMI', 'NDWI']\n",
      "trendimage_2000-2020_32611_-120_62\n",
      "['B1', 'B2', 'B3', 'B4']\n",
      "['TCB', 'TCG', 'TCW', 'NDVI', 'NDMI', 'NDWI']\n",
      "trendimage_2000-2020_32611_-120_63\n",
      "['B1', 'B2', 'B3', 'B4']\n",
      "['TCB', 'TCG', 'TCW', 'NDVI', 'NDMI', 'NDWI']\n",
      "trendimage_2000-2020_32611_-120_64\n",
      "['B1', 'B2', 'B3', 'B4']\n",
      "['TCB', 'TCG', 'TCW', 'NDVI', 'NDMI', 'NDWI']\n",
      "trendimage_2000-2020_32611_-120_65\n",
      "['B1', 'B2', 'B3', 'B4']\n",
      "['TCB', 'TCG', 'TCW', 'NDVI', 'NDMI', 'NDWI']\n",
      "trendimage_2000-2020_32611_-120_66\n",
      "['B1', 'B2', 'B3', 'B4']\n",
      "['TCB', 'TCG', 'TCW', 'NDVI', 'NDMI', 'NDWI']\n",
      "trendimage_2000-2020_32611_-120_67\n",
      "['B1', 'B2', 'B3', 'B4']\n",
      "['TCB', 'TCG', 'TCW', 'NDVI', 'NDMI', 'NDWI']\n",
      "trendimage_2000-2020_32611_-120_68\n",
      "['B1', 'B2', 'B3', 'B4']\n",
      "['TCB', 'TCG', 'TCW', 'NDVI', 'NDMI', 'NDWI']\n",
      "trendimage_2000-2020_32611_-120_69\n",
      "['B1', 'B2', 'B3', 'B4']\n",
      "['TCB', 'TCG', 'TCW', 'NDVI', 'NDMI', 'NDWI']\n",
      "trendimage_2000-2020_32611_-120_70\n",
      "['B1', 'B2', 'B3', 'B4']\n",
      "['TCB', 'TCG', 'TCW', 'NDVI', 'NDMI', 'NDWI']\n",
      "trendimage_2000-2020_32611_-120_71\n",
      "['B1', 'B2', 'B3', 'B4']\n",
      "['TCB', 'TCG', 'TCW', 'NDVI', 'NDMI', 'NDWI']\n",
      "trendimage_2000-2020_32611_-120_72\n",
      "['B1', 'B2', 'B3', 'B4']\n",
      "['TCB', 'TCG', 'TCW', 'NDVI', 'NDMI', 'NDWI']\n",
      "trendimage_2000-2020_32611_-120_73\n",
      "['B1', 'B2', 'B3', 'B4']\n",
      "['TCB', 'TCG', 'TCW', 'NDVI', 'NDMI', 'NDWI']\n",
      "trendimage_2000-2020_32611_-120_74\n",
      "['B1', 'B2', 'B3', 'B4']\n",
      "['TCB', 'TCG', 'TCW', 'NDVI', 'NDMI', 'NDWI']\n",
      "trendimage_2000-2020_32611_-120_75\n",
      "['B1', 'B2', 'B3', 'B4']\n",
      "['TCB', 'TCG', 'TCW', 'NDVI', 'NDMI', 'NDWI']\n",
      "trendimage_2000-2020_32611_-120_76\n",
      "['B1', 'B2', 'B3', 'B4']\n",
      "['TCB', 'TCG', 'TCW', 'NDVI', 'NDMI', 'NDWI']\n",
      "trendimage_2000-2020_32611_-120_77\n",
      "['B1', 'B2', 'B3', 'B4']\n",
      "['TCB', 'TCG', 'TCW', 'NDVI', 'NDMI', 'NDWI']\n",
      "trendimage_2000-2020_32611_-120_78\n",
      "['B1', 'B2', 'B3', 'B4']\n",
      "['TCB', 'TCG', 'TCW', 'NDVI', 'NDMI', 'NDWI']\n",
      "trendimage_2000-2020_32611_-120_79\n",
      "['B1', 'B2', 'B3', 'B4']\n",
      "['TCB', 'TCG', 'TCW', 'NDVI', 'NDMI', 'NDWI']\n",
      "trendimage_2000-2020_32611_-117_60\n",
      "['B1', 'B2', 'B3', 'B4']\n",
      "['TCB', 'TCG', 'TCW', 'NDVI', 'NDMI', 'NDWI']\n",
      "trendimage_2000-2020_32611_-117_61\n",
      "['B1', 'B2', 'B3', 'B4']\n",
      "['TCB', 'TCG', 'TCW', 'NDVI', 'NDMI', 'NDWI']\n",
      "trendimage_2000-2020_32611_-117_62\n",
      "['B1', 'B2', 'B3', 'B4']\n",
      "['TCB', 'TCG', 'TCW', 'NDVI', 'NDMI', 'NDWI']\n",
      "trendimage_2000-2020_32611_-117_63\n",
      "['B1', 'B2', 'B3', 'B4']\n",
      "['TCB', 'TCG', 'TCW', 'NDVI', 'NDMI', 'NDWI']\n",
      "trendimage_2000-2020_32611_-117_64\n",
      "['B1', 'B2', 'B3', 'B4']\n",
      "['TCB', 'TCG', 'TCW', 'NDVI', 'NDMI', 'NDWI']\n",
      "trendimage_2000-2020_32611_-117_65\n",
      "['B1', 'B2', 'B3', 'B4']\n",
      "['TCB', 'TCG', 'TCW', 'NDVI', 'NDMI', 'NDWI']\n",
      "trendimage_2000-2020_32611_-117_66\n",
      "['B1', 'B2', 'B3', 'B4']\n",
      "['TCB', 'TCG', 'TCW', 'NDVI', 'NDMI', 'NDWI']\n",
      "trendimage_2000-2020_32611_-117_67\n",
      "['B1', 'B2', 'B3', 'B4']\n",
      "['TCB', 'TCG', 'TCW', 'NDVI', 'NDMI', 'NDWI']\n",
      "trendimage_2000-2020_32611_-117_68\n",
      "['B1', 'B2', 'B3', 'B4']\n",
      "['TCB', 'TCG', 'TCW', 'NDVI', 'NDMI', 'NDWI']\n",
      "trendimage_2000-2020_32611_-117_69\n",
      "['B1', 'B2', 'B3', 'B4']\n",
      "['TCB', 'TCG', 'TCW', 'NDVI', 'NDMI', 'NDWI']\n",
      "trendimage_2000-2020_32611_-117_70\n",
      "['B1', 'B2', 'B3', 'B4']\n",
      "['TCB', 'TCG', 'TCW', 'NDVI', 'NDMI', 'NDWI']\n",
      "trendimage_2000-2020_32611_-117_71\n",
      "['B1', 'B2', 'B3', 'B4']\n",
      "['TCB', 'TCG', 'TCW', 'NDVI', 'NDMI', 'NDWI']\n",
      "trendimage_2000-2020_32611_-117_72\n",
      "['B1', 'B2', 'B3', 'B4']\n",
      "['TCB', 'TCG', 'TCW', 'NDVI', 'NDMI', 'NDWI']\n",
      "trendimage_2000-2020_32611_-117_73\n",
      "['B1', 'B2', 'B3', 'B4']\n",
      "['TCB', 'TCG', 'TCW', 'NDVI', 'NDMI', 'NDWI']\n",
      "trendimage_2000-2020_32611_-117_74\n",
      "['B1', 'B2', 'B3', 'B4']\n",
      "['TCB', 'TCG', 'TCW', 'NDVI', 'NDMI', 'NDWI']\n",
      "trendimage_2000-2020_32611_-117_75\n",
      "['B1', 'B2', 'B3', 'B4']\n",
      "['TCB', 'TCG', 'TCW', 'NDVI', 'NDMI', 'NDWI']\n",
      "trendimage_2000-2020_32611_-117_76\n",
      "['B1', 'B2', 'B3', 'B4']\n",
      "['TCB', 'TCG', 'TCW', 'NDVI', 'NDMI', 'NDWI']\n",
      "trendimage_2000-2020_32611_-117_77\n",
      "['B1', 'B2', 'B3', 'B4']\n",
      "['TCB', 'TCG', 'TCW', 'NDVI', 'NDMI', 'NDWI']\n",
      "trendimage_2000-2020_32611_-117_78\n",
      "['B1', 'B2', 'B3', 'B4']\n",
      "['TCB', 'TCG', 'TCW', 'NDVI', 'NDMI', 'NDWI']\n",
      "trendimage_2000-2020_32611_-117_79\n",
      "['B1', 'B2', 'B3', 'B4']\n",
      "['TCB', 'TCG', 'TCW', 'NDVI', 'NDMI', 'NDWI']\n"
     ]
    }
   ],
   "source": [
    "for X_MIN in longitudes:\n",
    "    for Y_MIN in latitudes:\n",
    "        geom = ee.Geometry.Rectangle(coords=[X_MIN-X_OVERLAP, Y_MIN, X_MIN+X_SIZE_BUFFERED, Y_MIN+Y_SIZE], proj=ee.Projection('EPSG:4326'))\n",
    "        config_trend['geom'] = geom\n",
    "        utm = get_utmzone_from_lon(X_MIN)\n",
    "        \n",
    "        crs = crs_from_utmzone(utm)\n",
    "        epsg = epsg_from_utmzone(utm)\n",
    "        prefix = make_fileprefix(epsg=epsg, period_start=STARTYEAR, period_end=ENDYEAR, lon=X_MIN, lat=Y_MIN)\n",
    "        print(prefix)\n",
    "        if RUN_PROCESS:\n",
    "            run_preprocess(config_trend, crs=crs, prefix=prefix, mask_non_water=True)"
   ]
  }
 ],
 "metadata": {
  "kernelspec": {
   "display_name": "Python 3 (ipykernel)",
   "language": "python",
   "name": "python3"
  },
  "language_info": {
   "codemirror_mode": {
    "name": "ipython",
    "version": 3
   },
   "file_extension": ".py",
   "mimetype": "text/x-python",
   "name": "python",
   "nbconvert_exporter": "python",
   "pygments_lexer": "ipython3",
   "version": "3.8.11"
  }
 },
 "nbformat": 4,
 "nbformat_minor": 5
}
