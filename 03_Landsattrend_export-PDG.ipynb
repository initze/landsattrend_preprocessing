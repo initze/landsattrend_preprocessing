{
 "cells": [
  {
   "cell_type": "markdown",
   "id": "7da3cf8a",
   "metadata": {},
   "source": [
    "# Landsattrend data preparation script for clowder extractor"
   ]
  },
  {
   "cell_type": "code",
   "execution_count": 1,
   "id": "c28f282b-239b-4797-9013-af4f95e7f928",
   "metadata": {},
   "outputs": [],
   "source": [
    "import ee#, eemont\n",
    "#ee.Authenticate()\n",
    "ee.Initialize()\n",
    "\n",
    "import geemap\n",
    "from importlib import reload  \n",
    "import geopandas as gpd\n",
    "\n",
    "from GEE_HotSpot.modules import high_level_functions\n",
    "from GEE_HotSpot.modules import utils_Landsat_SR as utils_LS\n",
    "from GEE_HotSpot.modules import ms_indices as indices\n",
    "from GEE_HotSpot.modules import configs, utils_string\n",
    "\n",
    "import numpy as np"
   ]
  },
  {
   "cell_type": "code",
   "execution_count": 11,
   "id": "8c6ca6d3-7d00-4aea-9a4b-7bf3d6047016",
   "metadata": {},
   "outputs": [],
   "source": [
    "def get_utmzone_from_lon(lon):\n",
    "    return int(31 + np.floor(lon/ 6))\n",
    "\n",
    "def crs_from_utmzone(utm):\n",
    "    return f'EPSG:326{utm:02d}'\n",
    "\n",
    "def epsg_from_utmzone(utm):\n",
    "    return f'326{utm:02d}'\n",
    "\n",
    "\n",
    "# change naming to include\n",
    "# 1.Zone (e.g.04N)\n",
    "# 2. Latitude (- or direction N/S)\n",
    "# 3. Longitude (- or direction W/E)\n",
    "def prefix_from_utmzone(utm):\n",
    "    return f'trendimage_Z{utm:02d}'\n",
    "\n",
    "def create_dem_data():\n",
    "    # Create DEM data from various sources\n",
    "    alosdem = ee.ImageCollection(\"JAXA/ALOS/AW3D30/V3_2\").mosaic().select(['DSM'], ['elevation'])\n",
    "    alosdem = alosdem.addBands(ee.Terrain.slope(alosdem)).select(['elevation', 'slope']).toFloat()\n",
    "    \n",
    "    nasadem = ee.Image(\"NASA/NASADEM_HGT/001\").select(['elevation'])\n",
    "    nasadem = nasadem.addBands(ee.Terrain.slope(nasadem)).select(['elevation', 'slope']).toFloat()\n",
    "    \n",
    "    arcticDEM = ee.Image(\"UMN/PGC/ArcticDEM/V3/2m_mosaic\").select(['elevation'])\n",
    "    arcticDEM = arcticDEM.addBands(ee.Terrain.slope(arcticDEM)).select(['elevation', 'slope']).toFloat()\n",
    "    \n",
    "    dem = ee.ImageCollection([arcticDEM, alosdem, nasadem]).mosaic()\n",
    "    return dem\n",
    "\n",
    "def run_preprocess(config_trend, crs='EPSG:32656', prefix='trendimage_Z056-Kolyma', tasking=True):\n",
    "\n",
    "    config_trend['geom'] = geom\n",
    "    trend = high_level_functions.runTCTrend(config_trend)\n",
    "    data = trend['data']\n",
    "\n",
    "    #### setup data\n",
    "    dem = create_dem_data()\n",
    "    data_export = data.addBands(dem).toFloat().select(data_cols)\n",
    "    if tasking:\n",
    "        ### Export\n",
    "        task = ee.batch.Export.image.toDrive(\n",
    "            image=data_export,\n",
    "            description=prefix,\n",
    "            folder=OUTFOLDER,\n",
    "            fileNamePrefix=prefix,\n",
    "            crs=crs,\n",
    "            region=geom,\n",
    "            scale=30,\n",
    "            maxPixels=1e12)\n",
    "        task.start()\n",
    "        return None\n",
    "    else:\n",
    "        return data_export\n",
    "\n",
    "def get_lon_from_utmzone(zone, distance):\n",
    "    start = (zone-31)*6\n",
    "    return list(range(start, start+6, distance))\n",
    "\n",
    "def epsgprefix_from_utmzone(utm):\n",
    "    epsg = epsg_from_utmzone(utm)\n",
    "    return f'trendimage_{epsg}'\n",
    "\n",
    "def make_fileprefix(epsg, period_start, period_end, lon, lat):\n",
    "    fileprefix = f'trendimage_{period_start}-{period_end}_{epsg}_{lon}_{lat}'\n",
    "    return fileprefix"
   ]
  },
  {
   "cell_type": "code",
   "execution_count": 12,
   "id": "85d2b786",
   "metadata": {},
   "outputs": [],
   "source": [
    "data_cols = ['TCB_slope',\n",
    "             'TCB_offset',\n",
    "             'TCG_slope', \n",
    "             'TCG_offset', \n",
    "             'TCW_slope',\n",
    "             'TCW_offset',\n",
    "             'NDVI_slope',\n",
    "             'NDVI_offset',\n",
    "             'NDMI_slope',\n",
    "             'NDMI_offset',\n",
    "             'NDWI_slope',\n",
    "             'NDWI_offset', \n",
    "             'elevation', \n",
    "             'slope'] "
   ]
  },
  {
   "cell_type": "markdown",
   "id": "13d96906",
   "metadata": {},
   "source": [
    "### Run  Batch Process"
   ]
  },
  {
   "cell_type": "markdown",
   "id": "1cd9ecc6-11bc-4717-a5da-6fa5a7a301c7",
   "metadata": {},
   "source": [
    "#### Project Properties - Change Settings Here "
   ]
  },
  {
   "cell_type": "code",
   "execution_count": 19,
   "id": "aa4e5727-64c0-491f-bbe6-adc2c2f333ed",
   "metadata": {},
   "outputs": [],
   "source": [
    "# PROPERTIES\n",
    "# SET METADATA AND EXPORT PARAMETERS\n",
    "MAXCLOUD = 70\n",
    "STARTYEAR = 2000\n",
    "ENDYEAR = 2020\n",
    "STARTMONTH = 7\n",
    "ENDMONTH = 8\n",
    "SCALE = 30\n",
    "OUTFOLDER = 'PDG_Trend'\n",
    "\n",
    "# SET SPATIAL PARAMETERS\n",
    "UTM_ZONE = 17\n",
    "LATITUDE_MIN = 70\n",
    "LATITUDE_MAX = 72\n",
    "\n",
    "# SPATIAL TILING SETTINGS (can be kept as is!)\n",
    "X_OVERLAP = 0.1\n",
    "X_SIZE_BUFFERED = 3 + (2*X_OVERLAP)\n",
    "Y_SIZE = 1\n",
    "X_SIZE = 3"
   ]
  },
  {
   "cell_type": "code",
   "execution_count": 14,
   "id": "92efdc5b",
   "metadata": {},
   "outputs": [],
   "source": [
    "# image metadata Filters\n",
    "config_trend = {\n",
    "  'date_filter_yr' : ee.Filter.calendarRange(STARTYEAR, ENDYEAR, 'year'),\n",
    "  'date_filter_mth' : ee.Filter.calendarRange(STARTMONTH, ENDMONTH, 'month'),\n",
    "  'meta_filter_cld' : ee.Filter.lt('CLOUD_COVER', MAXCLOUD),\n",
    "  'select_bands_visible' : [\"B1\", \"B2\",\"B3\",\"B4\"],\n",
    "  'select_indices' : [\"TCB\", \"TCG\", \"TCW\", \"NDVI\", \"NDMI\", \"NDWI\"],\n",
    "  'select_TCtrend_bands' : [\"TCB_slope\", \"TCG_slope\", \"TCW_slope\"],\n",
    "  'geom' : None\n",
    "}\n",
    "#------ RUN FULL PROCESS FOR ALL REGIONS IN LOOP ------------------------------\n",
    "#Map.addLayer(imageCollection, {}, 'TCVIS')"
   ]
  },
  {
   "cell_type": "code",
   "execution_count": 16,
   "id": "9d757431-f328-4879-a7c6-a7d799ac1fcd",
   "metadata": {},
   "outputs": [
    {
     "name": "stdout",
     "output_type": "stream",
     "text": [
      "[-84, -81]\n",
      "[70, 71]\n"
     ]
    }
   ],
   "source": [
    "#longitudes = range(90, 96, X_SIZE)\n",
    "longitudes = get_lon_from_utmzone(UTM_ZONE, X_SIZE)\n",
    "print(list(longitudes))\n",
    "\n",
    "latitudes = range(LATITUDE_MIN, LATITUDE_MAX, Y_SIZE)\n",
    "print(list(latitudes))"
   ]
  },
  {
   "cell_type": "markdown",
   "id": "c0efd299-c45e-4c6a-8208-d36256e8feb6",
   "metadata": {},
   "source": [
    "#### Run Processing "
   ]
  },
  {
   "cell_type": "code",
   "execution_count": 18,
   "id": "d0b22a97",
   "metadata": {},
   "outputs": [
    {
     "name": "stdout",
     "output_type": "stream",
     "text": [
      "trendimage_2000-2020_32617_-84_70\n",
      "['B1', 'B2', 'B3', 'B4']\n",
      "['TCB', 'TCG', 'TCW', 'NDVI', 'NDMI', 'NDWI']\n",
      "trendimage_2000-2020_32617_-84_71\n",
      "['B1', 'B2', 'B3', 'B4']\n",
      "['TCB', 'TCG', 'TCW', 'NDVI', 'NDMI', 'NDWI']\n",
      "trendimage_2000-2020_32617_-81_70\n",
      "['B1', 'B2', 'B3', 'B4']\n",
      "['TCB', 'TCG', 'TCW', 'NDVI', 'NDMI', 'NDWI']\n",
      "trendimage_2000-2020_32617_-81_71\n",
      "['B1', 'B2', 'B3', 'B4']\n",
      "['TCB', 'TCG', 'TCW', 'NDVI', 'NDMI', 'NDWI']\n"
     ]
    }
   ],
   "source": [
    "for X_MIN in longitudes:\n",
    "    for Y_MIN in latitudes:\n",
    "        geom = ee.Geometry.Rectangle(coords=[X_MIN-X_OVERLAP, Y_MIN, X_MIN+X_SIZE_BUFFERED, Y_MIN+Y_SIZE], proj=ee.Projection('EPSG:4326'))\n",
    "        config_trend['geom'] = geom\n",
    "        utm = get_utmzone_from_lon(X_MIN)\n",
    "        \n",
    "        crs = crs_from_utmzone(utm)\n",
    "        epsg = epsg_from_utmzone(utm)\n",
    "        prefix = make_fileprefix(epsg=epsg, period_start=STARTYEAR, period_end=ENDYEAR, lon=X_MIN, lat=Y_MIN)\n",
    "        print(prefix)\n",
    "        \n",
    "        run_preprocess(config_trend, crs=crs, prefix=prefix)"
   ]
  },
  {
   "cell_type": "code",
   "execution_count": null,
   "id": "1fd62b3b",
   "metadata": {},
   "outputs": [],
   "source": [
    "Map = geemap.Map()\n",
    "Map.add_ee_layer(geom)\n",
    "Map.center_object(geom)"
   ]
  },
  {
   "cell_type": "code",
   "execution_count": null,
   "id": "88422e14",
   "metadata": {},
   "outputs": [],
   "source": [
    "Map"
   ]
  },
  {
   "cell_type": "code",
   "execution_count": null,
   "id": "d29e302a",
   "metadata": {},
   "outputs": [],
   "source": []
  }
 ],
 "metadata": {
  "kernelspec": {
   "display_name": "Python 3 (ipykernel)",
   "language": "python",
   "name": "python3"
  },
  "language_info": {
   "codemirror_mode": {
    "name": "ipython",
    "version": 3
   },
   "file_extension": ".py",
   "mimetype": "text/x-python",
   "name": "python",
   "nbconvert_exporter": "python",
   "pygments_lexer": "ipython3",
   "version": "3.8.13"
  }
 },
 "nbformat": 4,
 "nbformat_minor": 5
}
