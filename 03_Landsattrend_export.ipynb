{
 "cells": [
  {
   "cell_type": "markdown",
   "id": "7da3cf8a",
   "metadata": {},
   "source": [
    "# Landsattrend data preparation script for clowder extractor"
   ]
  },
  {
   "cell_type": "markdown",
   "id": "ed16146b",
   "metadata": {},
   "source": [
    "#### ToDos\n",
    "* check offset\n",
    "* add ALOSDEM elevation + slope"
   ]
  },
  {
   "cell_type": "code",
   "execution_count": 1,
   "id": "9a4dee71",
   "metadata": {},
   "outputs": [],
   "source": [
    "import ee#, eemont\n",
    "#ee.Authenticate()\n",
    "ee.Initialize()"
   ]
  },
  {
   "cell_type": "code",
   "execution_count": 2,
   "id": "ee544e6a",
   "metadata": {},
   "outputs": [],
   "source": [
    "import geemap\n",
    "from importlib import reload  \n",
    "import geopandas as gpd"
   ]
  },
  {
   "cell_type": "code",
   "execution_count": 3,
   "id": "3b7533a0",
   "metadata": {},
   "outputs": [],
   "source": [
    "from modules import high_level_functions\n",
    "from modules import utils_Landsat_SR as utils_LS\n",
    "from modules import ms_indices as indices\n",
    "from modules import configs, utils_string"
   ]
  },
  {
   "cell_type": "code",
   "execution_count": 4,
   "id": "966aacde",
   "metadata": {},
   "outputs": [],
   "source": [
    "def create_dem_data():\n",
    "    # Create DEM data from various sources\n",
    "    alosdem = ee.ImageCollection(\"JAXA/ALOS/AW3D30/V3_2\").mosaic().select(['DSM'], ['elevation'])\n",
    "    alosdem = alosdem.addBands(ee.Terrain.slope(alosdem)).select(['elevation', 'slope']).toFloat()\n",
    "    \n",
    "    nasadem = ee.Image(\"NASA/NASADEM_HGT/001\").select(['elevation'])\n",
    "    nasadem = nasadem.addBands(ee.Terrain.slope(nasadem)).select(['elevation', 'slope']).toFloat()\n",
    "    \n",
    "    arcticDEM = ee.Image(\"UMN/PGC/ArcticDEM/V3/2m_mosaic\").select(['elevation'])\n",
    "    arcticDEM = arcticDEM.addBands(ee.Terrain.slope(arcticDEM)).select(['elevation', 'slope']).toFloat()\n",
    "    \n",
    "    dem = ee.ImageCollection([arcticDEM, alosdem, nasadem]).mosaic()\n",
    "    return dem"
   ]
  },
  {
   "cell_type": "code",
   "execution_count": 14,
   "id": "76026e30",
   "metadata": {},
   "outputs": [],
   "source": [
    "def run_preprocess(config_trend, crs=None):\n",
    "\n",
    "    config_trend['geom'] = geom\n",
    "    trend = high_level_functions.runTCTrend(config_trend)\n",
    "    data = trend['data']\n",
    "\n",
    "    #### setup data\n",
    "    dem = create_dem_data()\n",
    "    data_export = data.addBands(dem).toFloat().select(data_cols)\n",
    "\n",
    "    ### Export\n",
    "    task = ee.batch.Export.image.toDrive(\n",
    "        image=data_export,\n",
    "        description=f'trendimage_Z056-Kolyma_{X_MIN}_{Y_MIN}',\n",
    "        folder='PDG_Trend',\n",
    "        fileNamePrefix=f'trendimage_Z056-Kolyma_{X_MIN}_{Y_MIN}',\n",
    "        crs='EPSG:32656',\n",
    "        region=geom,\n",
    "        scale=30,\n",
    "        maxPixels=1e12)\n",
    "    task.start()"
   ]
  },
  {
   "cell_type": "code",
   "execution_count": 5,
   "id": "85d2b786",
   "metadata": {},
   "outputs": [],
   "source": [
    "data_cols = ['TCB_slope',\n",
    "             'TCB_offset',\n",
    "             'TCG_slope', \n",
    "             'TCG_offset', \n",
    "             'TCW_slope',\n",
    "             'TCW_offset',\n",
    "             'NDVI_slope',\n",
    "             'NDVI_offset',\n",
    "             'NDMI_slope',\n",
    "             'NDMI_offset',\n",
    "             'NDWI_slope',\n",
    "             'NDWI_offset', \n",
    "             'elevation', \n",
    "             'slope'] "
   ]
  },
  {
   "cell_type": "markdown",
   "id": "1c4f44a8",
   "metadata": {},
   "source": [
    "### Run single "
   ]
  },
  {
   "cell_type": "code",
   "execution_count": 6,
   "id": "41bb1e42",
   "metadata": {},
   "outputs": [],
   "source": [
    "# PROPERTIES\n",
    "# SET METADATA PARAMETERS\n",
    "MAXCLOUD = 70\n",
    "STARTYEAR = 2000\n",
    "ENDYEAR = 2020\n",
    "STARTMONTH = 7\n",
    "ENDMONTH = 8\n",
    "SCALE = 30\n",
    "X_MIN = 150\n",
    "Y_MIN = 68"
   ]
  },
  {
   "cell_type": "code",
   "execution_count": 7,
   "id": "bf2dea71",
   "metadata": {},
   "outputs": [],
   "source": [
    "# image metadata Filters\n",
    "config_trend = {\n",
    "  'date_filter_yr' : ee.Filter.calendarRange(STARTYEAR, ENDYEAR, 'year'),\n",
    "  'date_filter_mth' : ee.Filter.calendarRange(STARTMONTH, ENDMONTH, 'month'),\n",
    "  'meta_filter_cld' : ee.Filter.lt('CLOUD_COVER', MAXCLOUD),\n",
    "  'select_bands_visible' : [\"B1\", \"B2\",\"B3\",\"B4\"],\n",
    "  'select_indices' : [\"TCB\", \"TCG\", \"TCW\", \"NDVI\", \"NDMI\", \"NDWI\"],\n",
    "  'select_TCtrend_bands' : [\"TCB_slope\", \"TCG_slope\", \"TCW_slope\"],\n",
    "  'geom' : None\n",
    "}\n",
    "#------ RUN FULL PROCESS FOR ALL REGIONS IN LOOP ------------------------------\n",
    "#Map.addLayer(imageCollection, {}, 'TCVIS')"
   ]
  },
  {
   "cell_type": "code",
   "execution_count": null,
   "id": "2cf86e93",
   "metadata": {},
   "outputs": [],
   "source": [
    "geom = ee.Geometry.Rectangle(coords=[X_MIN, Y_MIN, X_MIN+6, Y_MIN+1], proj=ee.Projection('EPSG:4326'))"
   ]
  },
  {
   "cell_type": "code",
   "execution_count": null,
   "id": "8b488320",
   "metadata": {},
   "outputs": [],
   "source": [
    "config_trend['geom'] = geom\n",
    "trend = high_level_functions.runTCTrend(config_trend)\n",
    "data = trend['data']"
   ]
  },
  {
   "cell_type": "markdown",
   "id": "8da240c2",
   "metadata": {},
   "source": [
    "#### setup data\n",
    "* check about data type"
   ]
  },
  {
   "cell_type": "code",
   "execution_count": null,
   "id": "146ab89a",
   "metadata": {},
   "outputs": [],
   "source": [
    "dem = create_dem_data()"
   ]
  },
  {
   "cell_type": "code",
   "execution_count": null,
   "id": "cc9d13a0",
   "metadata": {},
   "outputs": [],
   "source": [
    "data_export = data.addBands(dem).toFloat().select(data_cols)"
   ]
  },
  {
   "cell_type": "markdown",
   "id": "6388a646",
   "metadata": {},
   "source": [
    "### Export\n",
    "* create projection"
   ]
  },
  {
   "cell_type": "code",
   "execution_count": null,
   "id": "f9f0468c",
   "metadata": {},
   "outputs": [],
   "source": [
    "task = ee.batch.Export.image.toDrive(\n",
    "    image=data_export,\n",
    "    description=f'trendimage_Z056-Kolyma_{X_MIN}_{Y_MIN}',\n",
    "    folder='PDG_Trend',\n",
    "    fileNamePrefix=f'trendimage_Z056-Kolyma_{X_MIN}_{Y_MIN}',\n",
    "    crs='EPSG:32656',\n",
    "    region=geom,\n",
    "    scale=30,\n",
    "    maxPixels=1e12)\n",
    "task.start()"
   ]
  },
  {
   "cell_type": "code",
   "execution_count": null,
   "id": "9c4ba73d",
   "metadata": {},
   "outputs": [],
   "source": []
  },
  {
   "cell_type": "markdown",
   "id": "13d96906",
   "metadata": {},
   "source": [
    "### Run  "
   ]
  },
  {
   "cell_type": "code",
   "execution_count": null,
   "id": "8a756021",
   "metadata": {},
   "outputs": [],
   "source": [
    "# PROPERTIES\n",
    "# SET METADATA PARAMETERS\n",
    "MAXCLOUD = 70\n",
    "STARTYEAR = 2000\n",
    "ENDYEAR = 2020\n",
    "STARTMONTH = 7\n",
    "ENDMONTH = 8\n",
    "SCALE = 30"
   ]
  },
  {
   "cell_type": "code",
   "execution_count": null,
   "id": "92efdc5b",
   "metadata": {},
   "outputs": [],
   "source": [
    "# image metadata Filters\n",
    "config_trend = {\n",
    "  'date_filter_yr' : ee.Filter.calendarRange(STARTYEAR, ENDYEAR, 'year'),\n",
    "  'date_filter_mth' : ee.Filter.calendarRange(STARTMONTH, ENDMONTH, 'month'),\n",
    "  'meta_filter_cld' : ee.Filter.lt('CLOUD_COVER', MAXCLOUD),\n",
    "  'select_bands_visible' : [\"B1\", \"B2\",\"B3\",\"B4\"],\n",
    "  'select_indices' : [\"TCB\", \"TCG\", \"TCW\", \"NDVI\", \"NDMI\", \"NDWI\"],\n",
    "  'select_TCtrend_bands' : [\"TCB_slope\", \"TCG_slope\", \"TCW_slope\"],\n",
    "  'geom' : None\n",
    "}\n",
    "#------ RUN FULL PROCESS FOR ALL REGIONS IN LOOP ------------------------------\n",
    "#Map.addLayer(imageCollection, {}, 'TCVIS')"
   ]
  },
  {
   "cell_type": "code",
   "execution_count": 18,
   "id": "a4a64570",
   "metadata": {},
   "outputs": [],
   "source": [
    "X_SIZE = 3\n",
    "Y_SIZE = 1"
   ]
  },
  {
   "cell_type": "code",
   "execution_count": 24,
   "id": "d0b22a97",
   "metadata": {},
   "outputs": [
    {
     "name": "stdout",
     "output_type": "stream",
     "text": [
      "['B1', 'B2', 'B3', 'B4']\n",
      "['TCB', 'TCG', 'TCW', 'NDVI', 'NDMI', 'NDWI']\n",
      "['B1', 'B2', 'B3', 'B4']\n",
      "['TCB', 'TCG', 'TCW', 'NDVI', 'NDMI', 'NDWI']\n",
      "['B1', 'B2', 'B3', 'B4']\n",
      "['TCB', 'TCG', 'TCW', 'NDVI', 'NDMI', 'NDWI']\n",
      "['B1', 'B2', 'B3', 'B4']\n",
      "['TCB', 'TCG', 'TCW', 'NDVI', 'NDMI', 'NDWI']\n",
      "['B1', 'B2', 'B3', 'B4']\n",
      "['TCB', 'TCG', 'TCW', 'NDVI', 'NDMI', 'NDWI']\n",
      "['B1', 'B2', 'B3', 'B4']\n",
      "['TCB', 'TCG', 'TCW', 'NDVI', 'NDMI', 'NDWI']\n",
      "['B1', 'B2', 'B3', 'B4']\n",
      "['TCB', 'TCG', 'TCW', 'NDVI', 'NDMI', 'NDWI']\n",
      "['B1', 'B2', 'B3', 'B4']\n",
      "['TCB', 'TCG', 'TCW', 'NDVI', 'NDMI', 'NDWI']\n",
      "['B1', 'B2', 'B3', 'B4']\n",
      "['TCB', 'TCG', 'TCW', 'NDVI', 'NDMI', 'NDWI']\n",
      "['B1', 'B2', 'B3', 'B4']\n",
      "['TCB', 'TCG', 'TCW', 'NDVI', 'NDMI', 'NDWI']\n"
     ]
    }
   ],
   "source": [
    "for Y_MIN in range(62, 67):\n",
    "    for X_MIN in range(150, 156, 3):\n",
    "        config_trend['geom'] = geom = ee.Geometry.Rectangle(coords=[X_MIN, Y_MIN, X_MIN+X_SIZE, Y_MIN+Y_SIZE], proj=ee.Projection('EPSG:4326'))\n",
    "        run_preprocess(config_trend)\n"
   ]
  },
  {
   "cell_type": "code",
   "execution_count": null,
   "id": "1fd62b3b",
   "metadata": {},
   "outputs": [],
   "source": []
  }
 ],
 "metadata": {
  "kernelspec": {
   "display_name": "Python 3 (ipykernel)",
   "language": "python",
   "name": "python3"
  },
  "language_info": {
   "codemirror_mode": {
    "name": "ipython",
    "version": 3
   },
   "file_extension": ".py",
   "mimetype": "text/x-python",
   "name": "python",
   "nbconvert_exporter": "python",
   "pygments_lexer": "ipython3",
   "version": "3.8.11"
  }
 },
 "nbformat": 4,
 "nbformat_minor": 5
}
