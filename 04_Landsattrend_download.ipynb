{
 "cells": [
  {
   "cell_type": "markdown",
   "id": "7da3cf8a",
   "metadata": {},
   "source": [
    "# Landsattrend data preparation script for clowder extractor"
   ]
  },
  {
   "cell_type": "code",
   "execution_count": null,
   "id": "c28f282b-239b-4797-9013-af4f95e7f928",
   "metadata": {},
   "outputs": [],
   "source": [
    "import ee#, eemont\n",
    "#ee.Authenticate()\n",
    "ee.Initialize()\n",
    "\n",
    "import geemap\n",
    "from importlib import reload  \n",
    "import geopandas as gpd\n",
    "import pandas as pd\n",
    "\n",
    "from GEE_HotSpot.modules import high_level_functions\n",
    "from GEE_HotSpot.modules import utils_Landsat_SR as utils_LS\n",
    "from GEE_HotSpot.modules import ms_indices as indices\n",
    "from GEE_HotSpot.modules import configs, utils_string\n",
    "\n",
    "from utils.utils_processing import *\n",
    "\n",
    "import numpy as np\n",
    "from pathlib import Path\n",
    "import os, shutil\n",
    "import tqdm\n",
    "import time"
   ]
  },
  {
   "cell_type": "code",
   "execution_count": null,
   "id": "798ffc69-a517-4f0a-a34a-30551cd49162",
   "metadata": {},
   "outputs": [],
   "source": [
    "def move_files2(interval, download_dir, target_base):\n",
    "    while True:\n",
    "        move_PDG_files(download_dir, target_base, dry_run=0)\n",
    "        #interval should be an integer, the number of seconds to wait\n",
    "        time.sleep(interval)"
   ]
  },
  {
   "cell_type": "markdown",
   "id": "b95f5bc3-51c1-475c-8239-70f6ddbd4945",
   "metadata": {},
   "source": [
    "### Move files"
   ]
  },
  {
   "cell_type": "markdown",
   "id": "5d52326b-8c39-47d8-ab77-8ed9e74df51e",
   "metadata": {},
   "source": [
    "#### One-time download "
   ]
  },
  {
   "cell_type": "code",
   "execution_count": null,
   "id": "709e2919-2380-452d-904b-f30e14ee79dc",
   "metadata": {
    "tags": []
   },
   "outputs": [],
   "source": [
    "download_dir = Path(r'O:\\My Drive\\PDG_Trend')\n",
    "target_base = Path(r'N:\\response\\GIS_RS_projects\\Ingmar_Landsattrend\\landsattrend\\data')\n",
    "#move_PDG_files(download_dir, target_base, dry_run=0)"
   ]
  },
  {
   "cell_type": "markdown",
   "id": "71ac0086-2af8-45ba-94bf-48ac95d1ca1a",
   "metadata": {},
   "source": [
    "#### Continuous Download"
   ]
  },
  {
   "cell_type": "code",
   "execution_count": null,
   "id": "9683dbb3-5ef3-4610-9fc7-1904b21204dc",
   "metadata": {},
   "outputs": [],
   "source": [
    "move_files2(300, download_dir, target_base)"
   ]
  }
 ],
 "metadata": {
  "kernelspec": {
   "display_name": "Python 3 (ipykernel)",
   "language": "python",
   "name": "python3"
  },
  "language_info": {
   "codemirror_mode": {
    "name": "ipython",
    "version": 3
   },
   "file_extension": ".py",
   "mimetype": "text/x-python",
   "name": "python",
   "nbconvert_exporter": "python",
   "pygments_lexer": "ipython3",
   "version": "3.8.11"
  }
 },
 "nbformat": 4,
 "nbformat_minor": 5
}
